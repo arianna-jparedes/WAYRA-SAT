{
 "cells": [
  {
   "cell_type": "code",
   "execution_count": 1,
   "id": "85ac6bab-40cf-43ef-8921-8afa6bd2941d",
   "metadata": {},
   "outputs": [],
   "source": [
    "import cdsapi\n",
    "import os"
   ]
  },
  {
   "cell_type": "code",
   "execution_count": 3,
   "id": "e6556483-d136-4dc3-a471-d8ff068870fd",
   "metadata": {},
   "outputs": [
    {
     "name": "stderr",
     "output_type": "stream",
     "text": [
      "2025-08-03 00:10:22,834 INFO [2024-09-26T00:00:00] Watch our [Forum](https://forum.ecmwf.int/) for Announcements, news and other discussed topics.\n"
     ]
    }
   ],
   "source": [
    "# Inicializar cliente\n",
    "c = cdsapi.Client()\n",
    "\n",
    "# Crear carpeta de salida si no existe\n",
    "os.makedirs(\"./era5_data_test\", exist_ok=True)\n",
    "\n",
    "# Rango de años y meses\n",
    "years = [2004, 2005, 2009, 2010, 2015, 2016]\n",
    "months = [f\"{m:02d}\" for m in range(1, 13)] \n",
    "\n",
    "# Días del mes (los días se repiten, y CDS se encarga de filtrar los no válidos)\n",
    "days = [f\"{d:02d}\" for d in range(1, 32)]\n",
    "hours = [f\"{h:02d}:00\" for h in range(24)]\n",
    "\n",
    "# Área de interés: [Norte, Oeste, Sur, Este]\n",
    "area = [1.7, -81.3, -5.2, -75]\n",
    "\n",
    "# Variables a descargar\n",
    "variables = [\"2m_temperature\", \"total_precipitation\"]\n",
    "\n",
    "# Dataset\n",
    "dataset = \"reanalysis-era5-land\""
   ]
  },
  {
   "cell_type": "code",
   "execution_count": null,
   "id": "1d1c5cd7-40f8-4350-b17c-de91a84b9333",
   "metadata": {},
   "outputs": [
    {
     "name": "stdout",
     "output_type": "stream",
     "text": [
      "Solicitando datos para 2004-01...\n"
     ]
    },
    {
     "name": "stderr",
     "output_type": "stream",
     "text": [
      "2025-08-03 00:10:32,765 INFO Request ID is cb1b9efc-4708-4dbd-8586-129dcad158f6\n",
      "2025-08-03 00:10:33,074 INFO status has been updated to accepted\n",
      "2025-08-03 00:10:47,716 INFO status has been updated to running\n",
      "2025-08-03 00:14:55,121 INFO status has been updated to successful\n",
      "                                                                                              "
     ]
    },
    {
     "name": "stdout",
     "output_type": "stream",
     "text": [
      "Solicitando datos para 2004-02...\n"
     ]
    },
    {
     "name": "stderr",
     "output_type": "stream",
     "text": [
      "2025-08-03 00:15:14,882 INFO Request ID is 83178d40-8807-4a37-b0ea-9f4b7f441d6e\n",
      "2025-08-03 00:15:15,127 INFO status has been updated to accepted\n",
      "2025-08-03 00:15:24,329 INFO status has been updated to running\n",
      "2025-08-03 00:19:37,469 INFO status has been updated to successful\n",
      "                                                                                              "
     ]
    },
    {
     "name": "stdout",
     "output_type": "stream",
     "text": [
      "Solicitando datos para 2004-03...\n"
     ]
    },
    {
     "name": "stderr",
     "output_type": "stream",
     "text": [
      "2025-08-03 00:20:14,037 INFO Request ID is 1377c662-5859-4e9d-ae44-e14d7176727d\n",
      "2025-08-03 00:20:14,464 INFO status has been updated to accepted\n",
      "2025-08-03 00:20:23,692 INFO status has been updated to running\n",
      "2025-08-03 00:24:36,945 INFO status has been updated to successful\n",
      "                                                                                              "
     ]
    },
    {
     "name": "stdout",
     "output_type": "stream",
     "text": [
      "Solicitando datos para 2004-04...\n"
     ]
    },
    {
     "name": "stderr",
     "output_type": "stream",
     "text": [
      "2025-08-03 00:24:42,339 INFO Request ID is 3650a78f-0cd0-47be-9a19-adde7526e033\n",
      "2025-08-03 00:24:42,650 INFO status has been updated to accepted\n",
      "2025-08-03 00:24:57,510 INFO status has been updated to running\n",
      "2025-08-03 00:25:16,979 INFO status has been updated to accepted\n",
      "2025-08-03 00:25:34,558 INFO status has been updated to running\n",
      "2025-08-03 00:31:07,585 INFO status has been updated to successful\n",
      "                                                                                              "
     ]
    },
    {
     "name": "stdout",
     "output_type": "stream",
     "text": [
      "Solicitando datos para 2004-05...\n"
     ]
    },
    {
     "name": "stderr",
     "output_type": "stream",
     "text": [
      "2025-08-03 00:31:16,476 INFO Request ID is 2dbe9771-da0b-408f-849b-7db8d4d96c07\n",
      "2025-08-03 00:31:16,745 INFO status has been updated to accepted\n",
      "2025-08-03 00:31:31,531 INFO status has been updated to running\n",
      "2025-08-03 00:35:39,936 INFO status has been updated to successful\n",
      "                                                                                              "
     ]
    },
    {
     "name": "stdout",
     "output_type": "stream",
     "text": [
      "Solicitando datos para 2004-06...\n"
     ]
    },
    {
     "name": "stderr",
     "output_type": "stream",
     "text": [
      "2025-08-03 00:36:50,804 INFO Request ID is 75645fc2-ccfb-4c45-a616-f97f1dbf1893\n",
      "2025-08-03 00:36:51,141 INFO status has been updated to accepted\n",
      "2025-08-03 00:37:00,806 INFO status has been updated to running\n",
      "2025-08-03 00:41:14,276 INFO status has been updated to successful\n",
      "                                                                                              "
     ]
    },
    {
     "name": "stdout",
     "output_type": "stream",
     "text": [
      "Solicitando datos para 2004-07...\n"
     ]
    },
    {
     "name": "stderr",
     "output_type": "stream",
     "text": [
      "2025-08-03 00:41:20,677 INFO Request ID is 07578659-e248-44cf-bc4e-44b9d163cef7\n",
      "2025-08-03 00:41:20,997 INFO status has been updated to accepted\n",
      "2025-08-03 00:41:30,280 INFO status has been updated to running\n",
      "2025-08-03 00:45:43,344 INFO status has been updated to successful\n",
      "                                                                                              "
     ]
    },
    {
     "name": "stdout",
     "output_type": "stream",
     "text": [
      "Solicitando datos para 2004-08...\n"
     ]
    },
    {
     "name": "stderr",
     "output_type": "stream",
     "text": [
      "2025-08-03 00:45:53,464 INFO Request ID is 50464a3d-036b-4eb3-afd9-48f0a0cd46fe\n",
      "2025-08-03 00:45:53,788 INFO status has been updated to accepted\n",
      "2025-08-03 00:46:03,046 INFO status has been updated to running\n",
      "2025-08-03 00:50:16,255 INFO status has been updated to successful\n",
      "                                                                                              "
     ]
    },
    {
     "name": "stdout",
     "output_type": "stream",
     "text": [
      "Solicitando datos para 2004-09...\n"
     ]
    },
    {
     "name": "stderr",
     "output_type": "stream",
     "text": [
      "2025-08-03 00:50:36,004 INFO Request ID is 9ef044a7-8545-4f11-95ba-13b98c7475eb\n",
      "2025-08-03 00:50:36,312 INFO status has been updated to accepted\n",
      "2025-08-03 00:50:45,631 INFO status has been updated to running\n",
      "2025-08-03 00:56:59,813 INFO status has been updated to successful\n",
      "                                                                                              "
     ]
    },
    {
     "name": "stdout",
     "output_type": "stream",
     "text": [
      "Solicitando datos para 2004-10...\n"
     ]
    },
    {
     "name": "stderr",
     "output_type": "stream",
     "text": [
      "2025-08-03 00:57:28,195 INFO Request ID is faf6f4bb-2802-471a-b563-328f35244590\n",
      "2025-08-03 00:57:28,455 INFO status has been updated to accepted\n",
      "2025-08-03 00:57:37,690 INFO status has been updated to running\n",
      "2025-08-03 00:57:43,118 INFO status has been updated to accepted\n",
      "2025-08-03 00:57:50,980 INFO status has been updated to running\n",
      "2025-08-03 01:01:51,274 INFO status has been updated to successful\n",
      "                                                                                              "
     ]
    },
    {
     "name": "stdout",
     "output_type": "stream",
     "text": [
      "Solicitando datos para 2004-11...\n"
     ]
    },
    {
     "name": "stderr",
     "output_type": "stream",
     "text": [
      "2025-08-03 01:02:22,829 INFO Request ID is 92cbaa45-c334-45f0-a960-e13110893cde\n",
      "2025-08-03 01:02:23,217 INFO status has been updated to accepted\n",
      "2025-08-03 01:02:32,382 INFO status has been updated to running\n",
      "2025-08-03 01:06:46,426 INFO status has been updated to successful\n",
      "                                                                                              "
     ]
    },
    {
     "name": "stdout",
     "output_type": "stream",
     "text": [
      "Solicitando datos para 2004-12...\n"
     ]
    },
    {
     "name": "stderr",
     "output_type": "stream",
     "text": [
      "2025-08-03 01:07:04,749 INFO Request ID is 705520e3-56d0-4d7f-96fa-e12e55ef1835\n",
      "2025-08-03 01:07:05,017 INFO status has been updated to accepted\n",
      "2025-08-03 01:07:14,336 INFO status has been updated to running\n",
      "2025-08-03 01:11:27,096 INFO status has been updated to successful\n",
      "                                                                                              "
     ]
    },
    {
     "name": "stdout",
     "output_type": "stream",
     "text": [
      "Solicitando datos para 2005-01...\n"
     ]
    },
    {
     "name": "stderr",
     "output_type": "stream",
     "text": [
      "2025-08-03 01:11:47,507 INFO Request ID is 166629dc-1980-4f61-bc80-b7de4e2f5a98\n",
      "2025-08-03 01:11:47,774 INFO status has been updated to accepted\n",
      "2025-08-03 01:11:53,301 INFO status has been updated to running\n",
      "2025-08-03 01:16:09,841 INFO status has been updated to successful\n",
      "                                                                                              "
     ]
    },
    {
     "name": "stdout",
     "output_type": "stream",
     "text": [
      "Solicitando datos para 2005-02...\n"
     ]
    },
    {
     "name": "stderr",
     "output_type": "stream",
     "text": [
      "2025-08-03 01:16:21,987 INFO Request ID is 9f766c5c-a982-419f-810f-235a6814dd15\n",
      "2025-08-03 01:16:22,285 INFO status has been updated to accepted\n",
      "2025-08-03 01:16:31,611 INFO status has been updated to running\n",
      "2025-08-03 01:20:44,250 INFO status has been updated to successful\n",
      "                                                                                              "
     ]
    },
    {
     "name": "stdout",
     "output_type": "stream",
     "text": [
      "Solicitando datos para 2005-03...\n"
     ]
    },
    {
     "name": "stderr",
     "output_type": "stream",
     "text": [
      "2025-08-03 01:20:59,556 INFO Request ID is fe0a0dd4-8360-4f24-a9ec-af44b6590440\n",
      "2025-08-03 01:20:59,895 INFO status has been updated to accepted\n",
      "2025-08-03 01:21:09,278 INFO status has been updated to running\n"
     ]
    }
   ],
   "source": [
    "# Loop para cada mes\n",
    "for year in years:\n",
    "    for month in months:\n",
    "        print(f\"Solicitando datos para {year}-{month}...\")\n",
    "        output_file = f\"era5_data/era5_land_{year}_{month}\"\n",
    "\n",
    "        if os.path.exists(output_file):\n",
    "            print(f\"{output_file} ya existe, omitiendo descarga.\")\n",
    "            continue\n",
    "\n",
    "        request = {\n",
    "            \"variable\": variables,\n",
    "            \"year\": str(year),\n",
    "            \"month\": month,\n",
    "            \"day\": days,\n",
    "            \"time\": hours,\n",
    "            \"data_format\": \"netcdf\",\n",
    "            \"area\": area\n",
    "        }\n",
    "\n",
    "        try:\n",
    "            c.retrieve(dataset, request, output_file)\n",
    "        except Exception as e:\n",
    "            print(f\"Error al descargar {year}-{month}: {e}\")"
   ]
  },
  {
   "cell_type": "code",
   "execution_count": 5,
   "id": "c40518ff-d72e-4237-9071-69b58a816019",
   "metadata": {},
   "outputs": [
    {
     "data": {
      "text/plain": [
       "4"
      ]
     },
     "execution_count": 5,
     "metadata": {},
     "output_type": "execute_result"
    }
   ],
   "source": []
  },
  {
   "cell_type": "code",
   "execution_count": null,
   "id": "3e802418-b09a-48c0-b73c-b32a94ac833b",
   "metadata": {},
   "outputs": [],
   "source": []
  }
 ],
 "metadata": {
  "kernelspec": {
   "display_name": "Python 3 (ipykernel)",
   "language": "python",
   "name": "python3"
  },
  "language_info": {
   "codemirror_mode": {
    "name": "ipython",
    "version": 3
   },
   "file_extension": ".py",
   "mimetype": "text/x-python",
   "name": "python",
   "nbconvert_exporter": "python",
   "pygments_lexer": "ipython3",
   "version": "3.9.23"
  }
 },
 "nbformat": 4,
 "nbformat_minor": 5
}
