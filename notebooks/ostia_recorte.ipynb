{
 "cells": [
  {
   "cell_type": "code",
   "execution_count": 2,
   "id": "1fd05683-8717-4e5b-88d3-494d4263e982",
   "metadata": {},
   "outputs": [],
   "source": [
    "import xarray as xr\n",
    "import glob\n",
    "import os"
   ]
  },
  {
   "cell_type": "code",
   "execution_count": 5,
   "id": "097443be-c4a1-4531-ba2e-67a9d2edadcc",
   "metadata": {},
   "outputs": [
    {
     "name": "stdout",
     "output_type": "stream",
     "text": [
      "Guardado: ./ostia_data/sst_199701_nino3.4.nc\n",
      "Guardado: ./ostia_data/sst_199702_nino3.4.nc\n",
      "Guardado: ./ostia_data/sst_199703_nino3.4.nc\n",
      "Guardado: ./ostia_data/sst_199704_nino3.4.nc\n",
      "Guardado: ./ostia_data/sst_199705_nino3.4.nc\n",
      "Guardado: ./ostia_data/sst_199706_nino3.4.nc\n",
      "Guardado: ./ostia_data/sst_199707_nino3.4.nc\n",
      "Guardado: ./ostia_data/sst_199708_nino3.4.nc\n",
      "Guardado: ./ostia_data/sst_199709_nino3.4.nc\n",
      "Guardado: ./ostia_data/sst_199710_nino3.4.nc\n",
      "Guardado: ./ostia_data/sst_199711_nino3.4.nc\n",
      "Guardado: ./ostia_data/sst_199712_nino3.4.nc\n",
      "Guardado: ./ostia_data/sst_199801_nino3.4.nc\n",
      "Guardado: ./ostia_data/sst_199802_nino3.4.nc\n",
      "Guardado: ./ostia_data/sst_199803_nino3.4.nc\n",
      "Guardado: ./ostia_data/sst_199804_nino3.4.nc\n",
      "Guardado: ./ostia_data/sst_199805_nino3.4.nc\n",
      "Guardado: ./ostia_data/sst_199806_nino3.4.nc\n",
      "Guardado: ./ostia_data/sst_199807_nino3.4.nc\n",
      "Guardado: ./ostia_data/sst_199808_nino3.4.nc\n",
      "Guardado: ./ostia_data/sst_199809_nino3.4.nc\n",
      "Guardado: ./ostia_data/sst_199810_nino3.4.nc\n",
      "Guardado: ./ostia_data/sst_199811_nino3.4.nc\n",
      "Guardado: ./ostia_data/sst_199812_nino3.4.nc\n",
      "Guardado: ./ostia_data/sst_199901_nino3.4.nc\n",
      "Guardado: ./ostia_data/sst_199902_nino3.4.nc\n",
      "Guardado: ./ostia_data/sst_199903_nino3.4.nc\n",
      "Guardado: ./ostia_data/sst_199904_nino3.4.nc\n",
      "Guardado: ./ostia_data/sst_199905_nino3.4.nc\n",
      "Guardado: ./ostia_data/sst_199906_nino3.4.nc\n",
      "Guardado: ./ostia_data/sst_199907_nino3.4.nc\n",
      "Guardado: ./ostia_data/sst_199908_nino3.4.nc\n",
      "Guardado: ./ostia_data/sst_199909_nino3.4.nc\n",
      "Guardado: ./ostia_data/sst_199910_nino3.4.nc\n",
      "Guardado: ./ostia_data/sst_199911_nino3.4.nc\n",
      "Guardado: ./ostia_data/sst_199912_nino3.4.nc\n",
      "Guardado: ./ostia_data/sst_200001_nino3.4.nc\n",
      "Guardado: ./ostia_data/sst_200002_nino3.4.nc\n",
      "Guardado: ./ostia_data/sst_200003_nino3.4.nc\n",
      "Guardado: ./ostia_data/sst_200004_nino3.4.nc\n",
      "Guardado: ./ostia_data/sst_200005_nino3.4.nc\n",
      "Guardado: ./ostia_data/sst_200006_nino3.4.nc\n",
      "Guardado: ./ostia_data/sst_200007_nino3.4.nc\n",
      "Guardado: ./ostia_data/sst_200008_nino3.4.nc\n",
      "Guardado: ./ostia_data/sst_200009_nino3.4.nc\n",
      "Guardado: ./ostia_data/sst_200010_nino3.4.nc\n",
      "Guardado: ./ostia_data/sst_200011_nino3.4.nc\n",
      "Guardado: ./ostia_data/sst_200012_nino3.4.nc\n"
     ]
    }
   ],
   "source": [
    "# Coordenadas de la región Niño 3.4\n",
    "lat_min, lat_max = -5.0, 5.0      # 5°S a 5°N\n",
    "lon_min, lon_max = -170.0, -120.0  # 170°W a 120°W\n",
    "\n",
    "# Carpeta de salida\n",
    "out_dir = './ostia_data'\n",
    "os.makedirs(out_dir, exist_ok=True)\n",
    "\n",
    "for year in range(1997, 2001):\n",
    "    for month in range(1, 13):\n",
    "        # Patrón para los archivos de cada mes\n",
    "        pattern = f'/home/arya/sst_data/{year}{month:02d}*.nc'\n",
    "        files = sorted(glob.glob(pattern))\n",
    "        if not files:\n",
    "            print(f'No se encontraron archivos para {year}-{month:02d}, omitiendo.')\n",
    "            continue\n",
    "\n",
    "        # Abrir y combinar únicamente analysed_sst\n",
    "        ds = xr.open_mfdataset(files, combine='by_coords', use_cftime=True)[['analysed_sst']]\n",
    "\n",
    "        # Recortar al dominio Niño 3.4\n",
    "        region = ds.sel(\n",
    "            lat=slice(lat_min, lat_max),\n",
    "            lon=slice(lon_min, lon_max)\n",
    "        )\n",
    "\n",
    "        # Guardar el resultado\n",
    "        outfile = os.path.join(out_dir, f'sst_{year}{month:02d}_nino3.4.nc')\n",
    "        region.to_netcdf(outfile)\n",
    "        print(f'Guardado: {outfile}')"
   ]
  },
  {
   "cell_type": "code",
   "execution_count": null,
   "id": "18614949-f458-44e1-bcb4-f234222341f2",
   "metadata": {},
   "outputs": [],
   "source": []
  },
  {
   "cell_type": "code",
   "execution_count": null,
   "id": "0bea7c47-7033-4f39-a479-b84a46579c73",
   "metadata": {},
   "outputs": [],
   "source": []
  }
 ],
 "metadata": {
  "kernelspec": {
   "display_name": "Python 3 (ipykernel)",
   "language": "python",
   "name": "python3"
  },
  "language_info": {
   "codemirror_mode": {
    "name": "ipython",
    "version": 3
   },
   "file_extension": ".py",
   "mimetype": "text/x-python",
   "name": "python",
   "nbconvert_exporter": "python",
   "pygments_lexer": "ipython3",
   "version": "3.9.23"
  }
 },
 "nbformat": 4,
 "nbformat_minor": 5
}
